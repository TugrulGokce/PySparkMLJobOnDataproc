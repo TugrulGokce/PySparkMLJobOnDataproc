{
 "cells": [
  {
   "cell_type": "markdown",
   "id": "0259e23e",
   "metadata": {},
   "source": [
    "|Variable     |Description |\n",
    "|:------------|:----------:|\n",
    "|id           |A notation for a house           |\n",
    "|date         |Date house was sold          |\n",
    "|price        |Price is prediction target           |\n",
    "|bedrooms     |Number of bedrooms           |\n",
    "|bathrooms    |Number of bathrooms           |\n",
    "|sqft_living  |Square footage of the home           |\n",
    "|sqft_lot     |Square footage of the lot           |\n",
    "|floors       |Total floors (levels) in house           |\n",
    "|waterfront   |House which has a view to a waterfront           |\n",
    "|view         |Has been viewed           |\n",
    "|condition    |How good the condition is overall           |\n",
    "|grade        |overall grade given to the housing unit, based on King County grading system           |\n",
    "|sqft_above   |Square footage of house apart from basement           |\n",
    "|sqft_basement|Square footage of the basement           |\n",
    "|yr_built     |Built Year           |\n",
    "|yr_renovated |Year when house was renovated           |\n",
    "|zipcode      |Zip code           |\n",
    "|lat          |Latitude coordinate           |\n",
    "|long         |Longitude coordinate           |\n",
    "|sqft_living15|Living room area in 2015(implies-- some renovations) This might or might not have affected the lotsize area|\n",
    "|sqft_lot15   |LotSize area in 2015(implies-- some renovations)           |"
   ]
  },
  {
   "cell_type": "markdown",
   "id": "dfcf8f96",
   "metadata": {},
   "source": [
    "## Data Load"
   ]
  },
  {
   "cell_type": "code",
   "execution_count": 1,
   "id": "bca98f89",
   "metadata": {},
   "outputs": [
    {
     "name": "stderr",
     "output_type": "stream",
     "text": [
      "Setting default log level to \"WARN\".\n",
      "To adjust logging level use sc.setLogLevel(newLevel). For SparkR, use setLogLevel(newLevel).\n",
      "22/02/07 16:14:25 INFO org.apache.spark.SparkEnv: Registering MapOutputTracker\n",
      "22/02/07 16:14:25 INFO org.apache.spark.SparkEnv: Registering BlockManagerMaster\n",
      "22/02/07 16:14:25 INFO org.apache.spark.SparkEnv: Registering BlockManagerMasterHeartbeat\n",
      "22/02/07 16:14:25 INFO org.apache.spark.SparkEnv: Registering OutputCommitCoordinator\n",
      "                                                                                \r"
     ]
    }
   ],
   "source": [
    "from pyspark.sql import SparkSession, SQLContext, Row\n",
    "from pyspark.sql.functions import col\n",
    "from pyspark.sql.types import IntegerType, FloatType, DateType\n",
    "from pyspark.sql.functions import regexp_replace\n",
    "from pyspark.sql.functions import when\n",
    "\n",
    "# Creating Spark Session\n",
    "spark = SparkSession.builder.appName(\"LinearRegression_with_HouseData\").getOrCreate()\n",
    "sc = spark.sparkContext\n",
    "\n",
    "gcs_bucket='dataproc-staging-us-central1-1012630253058-dtwj7n8q/notebooks/jupyter/'\n",
    "data_file = \"gs://\" + gcs_bucket + \"kc_house_data.csv\"\n",
    "\n",
    "# reading csv\n",
    "house_df = spark.read.option(\"header\", True).csv(data_file) \n",
    "\n",
    "# changing date rows 20141013T000000 ---> 20141013\n",
    "house_df = house_df.withColumn(\"date\"\n",
    "                        ,when(house_df.date.endswith(\"T000000\"), regexp_replace(house_df.date,\"T000000\",\"\")))\n",
    "\n",
    "# changing data types required\n",
    "house_df = house_df.withColumn(\"id\", col(\"id\").cast(IntegerType())) \\\n",
    "                   .withColumn(\"price\", col(\"price\").cast(FloatType())) \\\n",
    "                   .withColumn(\"bedrooms\", col(\"bedrooms\").cast(IntegerType())) \\\n",
    "                   .withColumn(\"bathrooms\", col(\"bathrooms\").cast(FloatType())) \\\n",
    "                   .withColumn(\"sqft_living\", col(\"sqft_living\").cast(IntegerType())) \\\n",
    "                   .withColumn(\"sqft_lot\", col(\"sqft_lot\").cast(IntegerType())) \\\n",
    "                   .withColumn(\"floors\", col(\"floors\").cast(FloatType())) \\\n",
    "                   .withColumn(\"waterfront\", col(\"waterfront\").cast(IntegerType())) \\\n",
    "                   .withColumn(\"view\", col(\"view\").cast(IntegerType())) \\\n",
    "                   .withColumn(\"condition\", col(\"condition\").cast(IntegerType())) \\\n",
    "                   .withColumn(\"grade\", col(\"grade\").cast(IntegerType())) \\\n",
    "                   .withColumn(\"sqft_above\", col(\"sqft_above\").cast(IntegerType())) \\\n",
    "                   .withColumn(\"sqft_basement\", col(\"sqft_basement\").cast(IntegerType())) \\\n",
    "                   .withColumn(\"yr_built\", col(\"yr_built\").cast(DateType())) \\\n",
    "                   .withColumn(\"yr_renovated\", col(\"yr_renovated\").cast(DateType())) \\\n",
    "                   .withColumn(\"zipcode\", col(\"zipcode\").cast(IntegerType())) \\\n",
    "                   .withColumn(\"lat\", col(\"lat\").cast(FloatType())) \\\n",
    "                   .withColumn(\"long\", col(\"long\").cast(FloatType())) \\\n",
    "                   .withColumn(\"sqft_living15\", col(\"sqft_living15\").cast(IntegerType())) \\\n",
    "                   .withColumn(\"sqft_lot15\", col(\"sqft_lot15\").cast(IntegerType()))"
   ]
  },
  {
   "cell_type": "code",
   "execution_count": 2,
   "id": "a54442da",
   "metadata": {},
   "outputs": [],
   "source": [
    "sc.setLogLevel(\"ERROR\")"
   ]
  },
  {
   "cell_type": "markdown",
   "id": "ba393e42",
   "metadata": {},
   "source": [
    "## Data exploration"
   ]
  },
  {
   "cell_type": "code",
   "execution_count": 3,
   "id": "4b163b79",
   "metadata": {},
   "outputs": [
    {
     "name": "stdout",
     "output_type": "stream",
     "text": [
      "root\n",
      " |-- id: integer (nullable = true)\n",
      " |-- date: string (nullable = true)\n",
      " |-- price: float (nullable = true)\n",
      " |-- bedrooms: integer (nullable = true)\n",
      " |-- bathrooms: float (nullable = true)\n",
      " |-- sqft_living: integer (nullable = true)\n",
      " |-- sqft_lot: integer (nullable = true)\n",
      " |-- floors: float (nullable = true)\n",
      " |-- waterfront: integer (nullable = true)\n",
      " |-- view: integer (nullable = true)\n",
      " |-- condition: integer (nullable = true)\n",
      " |-- grade: integer (nullable = true)\n",
      " |-- sqft_above: integer (nullable = true)\n",
      " |-- sqft_basement: integer (nullable = true)\n",
      " |-- yr_built: date (nullable = true)\n",
      " |-- yr_renovated: date (nullable = true)\n",
      " |-- zipcode: integer (nullable = true)\n",
      " |-- lat: float (nullable = true)\n",
      " |-- long: float (nullable = true)\n",
      " |-- sqft_living15: integer (nullable = true)\n",
      " |-- sqft_lot15: integer (nullable = true)\n",
      "\n",
      "None\n",
      "+------+----------+-------+--------+-------------+----+---------+-------------+----------+-----+-----------+--------+\n",
      "|floors|waterfront|    lat|bedrooms|sqft_basement|view|bathrooms|sqft_living15|sqft_above|grade|sqft_living|   price|\n",
      "+------+----------+-------+--------+-------------+----+---------+-------------+----------+-----+-----------+--------+\n",
      "|   1.0|         0|47.5112|       3|            0|   0|      1.0|         1340|      1180|    7|       1180|221900.0|\n",
      "|   2.0|         0| 47.721|       3|          400|   0|     2.25|         1690|      2170|    7|       2570|538000.0|\n",
      "|   1.0|         0|47.7379|       2|            0|   0|      1.0|         2720|       770|    6|        770|180000.0|\n",
      "|   1.0|         0|47.5208|       4|          910|   0|      3.0|         1360|      1050|    7|       1960|604000.0|\n",
      "|   1.0|         0|47.6168|       3|            0|   0|      2.0|         1800|      1680|    8|       1680|510000.0|\n",
      "+------+----------+-------+--------+-------------+----+---------+-------------+----------+-----+-----------+--------+\n",
      "only showing top 5 rows\n",
      "\n",
      "None\n"
     ]
    }
   ],
   "source": [
    "columns_for_lr = [\"floors\", \"waterfront\",\"lat\" ,\"bedrooms\" ,\"sqft_basement\" ,\"view\" ,\"bathrooms\",\"sqft_living15\",\"sqft_above\",\"grade\",\"sqft_living\", \"price\"]\n",
    "print(house_df.printSchema())\n",
    "print(house_df.select(columns_for_lr).show(5, True))"
   ]
  },
  {
   "cell_type": "code",
   "execution_count": 4,
   "id": "09e3f914",
   "metadata": {},
   "outputs": [
    {
     "name": "stderr",
     "output_type": "stream",
     "text": [
      "                                                                                \r"
     ]
    },
    {
     "data": {
      "text/html": [
       "<div>\n",
       "<style scoped>\n",
       "    .dataframe tbody tr th:only-of-type {\n",
       "        vertical-align: middle;\n",
       "    }\n",
       "\n",
       "    .dataframe tbody tr th {\n",
       "        vertical-align: top;\n",
       "    }\n",
       "\n",
       "    .dataframe thead th {\n",
       "        text-align: right;\n",
       "    }\n",
       "</style>\n",
       "<table border=\"1\" class=\"dataframe\">\n",
       "  <thead>\n",
       "    <tr style=\"text-align: right;\">\n",
       "      <th></th>\n",
       "      <th>0</th>\n",
       "      <th>1</th>\n",
       "      <th>2</th>\n",
       "      <th>3</th>\n",
       "      <th>4</th>\n",
       "    </tr>\n",
       "  </thead>\n",
       "  <tbody>\n",
       "    <tr>\n",
       "      <th>summary</th>\n",
       "      <td>count</td>\n",
       "      <td>mean</td>\n",
       "      <td>stddev</td>\n",
       "      <td>min</td>\n",
       "      <td>max</td>\n",
       "    </tr>\n",
       "    <tr>\n",
       "      <th>floors</th>\n",
       "      <td>21613</td>\n",
       "      <td>1.4943089807060566</td>\n",
       "      <td>0.5399888951423489</td>\n",
       "      <td>1.0</td>\n",
       "      <td>3.5</td>\n",
       "    </tr>\n",
       "    <tr>\n",
       "      <th>waterfront</th>\n",
       "      <td>21613</td>\n",
       "      <td>0.007541757275713691</td>\n",
       "      <td>0.08651719772788748</td>\n",
       "      <td>0</td>\n",
       "      <td>1</td>\n",
       "    </tr>\n",
       "    <tr>\n",
       "      <th>lat</th>\n",
       "      <td>21613</td>\n",
       "      <td>47.560052521439594</td>\n",
       "      <td>0.13856371085848315</td>\n",
       "      <td>47.1559</td>\n",
       "      <td>47.7776</td>\n",
       "    </tr>\n",
       "    <tr>\n",
       "      <th>bedrooms</th>\n",
       "      <td>21613</td>\n",
       "      <td>3.37084162309721</td>\n",
       "      <td>0.930061831147451</td>\n",
       "      <td>0</td>\n",
       "      <td>33</td>\n",
       "    </tr>\n",
       "    <tr>\n",
       "      <th>sqft_basement</th>\n",
       "      <td>21613</td>\n",
       "      <td>291.5090454818859</td>\n",
       "      <td>442.57504267746685</td>\n",
       "      <td>0</td>\n",
       "      <td>4820</td>\n",
       "    </tr>\n",
       "    <tr>\n",
       "      <th>view</th>\n",
       "      <td>21613</td>\n",
       "      <td>0.23430342849211122</td>\n",
       "      <td>0.7663175692736114</td>\n",
       "      <td>0</td>\n",
       "      <td>4</td>\n",
       "    </tr>\n",
       "    <tr>\n",
       "      <th>bathrooms</th>\n",
       "      <td>21613</td>\n",
       "      <td>2.1147573219821405</td>\n",
       "      <td>0.770163157217741</td>\n",
       "      <td>0.0</td>\n",
       "      <td>8.0</td>\n",
       "    </tr>\n",
       "    <tr>\n",
       "      <th>sqft_living15</th>\n",
       "      <td>21613</td>\n",
       "      <td>1986.552491556008</td>\n",
       "      <td>685.3913042527788</td>\n",
       "      <td>399</td>\n",
       "      <td>6210</td>\n",
       "    </tr>\n",
       "    <tr>\n",
       "      <th>sqft_above</th>\n",
       "      <td>21613</td>\n",
       "      <td>1788.3906907879516</td>\n",
       "      <td>828.0909776519175</td>\n",
       "      <td>290</td>\n",
       "      <td>9410</td>\n",
       "    </tr>\n",
       "    <tr>\n",
       "      <th>grade</th>\n",
       "      <td>21613</td>\n",
       "      <td>7.656873178179799</td>\n",
       "      <td>1.1754587569743344</td>\n",
       "      <td>1</td>\n",
       "      <td>13</td>\n",
       "    </tr>\n",
       "    <tr>\n",
       "      <th>sqft_living</th>\n",
       "      <td>21613</td>\n",
       "      <td>2079.8997362698374</td>\n",
       "      <td>918.4408970468096</td>\n",
       "      <td>290</td>\n",
       "      <td>13540</td>\n",
       "    </tr>\n",
       "    <tr>\n",
       "      <th>price</th>\n",
       "      <td>21613</td>\n",
       "      <td>540088.1417665294</td>\n",
       "      <td>367127.19648270035</td>\n",
       "      <td>75000.0</td>\n",
       "      <td>7700000.0</td>\n",
       "    </tr>\n",
       "  </tbody>\n",
       "</table>\n",
       "</div>"
      ],
      "text/plain": [
       "                   0                     1                    2        3  \\\n",
       "summary        count                  mean               stddev      min   \n",
       "floors         21613    1.4943089807060566   0.5399888951423489      1.0   \n",
       "waterfront     21613  0.007541757275713691  0.08651719772788748        0   \n",
       "lat            21613    47.560052521439594  0.13856371085848315  47.1559   \n",
       "bedrooms       21613      3.37084162309721    0.930061831147451        0   \n",
       "sqft_basement  21613     291.5090454818859   442.57504267746685        0   \n",
       "view           21613   0.23430342849211122   0.7663175692736114        0   \n",
       "bathrooms      21613    2.1147573219821405    0.770163157217741      0.0   \n",
       "sqft_living15  21613     1986.552491556008    685.3913042527788      399   \n",
       "sqft_above     21613    1788.3906907879516    828.0909776519175      290   \n",
       "grade          21613     7.656873178179799   1.1754587569743344        1   \n",
       "sqft_living    21613    2079.8997362698374    918.4408970468096      290   \n",
       "price          21613     540088.1417665294   367127.19648270035  75000.0   \n",
       "\n",
       "                       4  \n",
       "summary              max  \n",
       "floors               3.5  \n",
       "waterfront             1  \n",
       "lat              47.7776  \n",
       "bedrooms              33  \n",
       "sqft_basement       4820  \n",
       "view                   4  \n",
       "bathrooms            8.0  \n",
       "sqft_living15       6210  \n",
       "sqft_above          9410  \n",
       "grade                 13  \n",
       "sqft_living        13540  \n",
       "price          7700000.0  "
      ]
     },
     "execution_count": 4,
     "metadata": {},
     "output_type": "execute_result"
    }
   ],
   "source": [
    "house_df[columns_for_lr].describe().toPandas().T"
   ]
  },
  {
   "cell_type": "code",
   "execution_count": 5,
   "id": "ec12da36",
   "metadata": {},
   "outputs": [
    {
     "name": "stdout",
     "output_type": "stream",
     "text": [
      "Correlation to price for floors 0.25679388755071897\n"
     ]
    },
    {
     "name": "stderr",
     "output_type": "stream",
     "text": [
      "\r",
      "[Stage 8:>                                                          (0 + 1) / 1]\r",
      "\r",
      "                                                                                \r"
     ]
    },
    {
     "name": "stdout",
     "output_type": "stream",
     "text": [
      "Correlation to price for waterfront 0.26636943403060204\n",
      "Correlation to price for lat 0.307003482637723\n",
      "Correlation to price for bedrooms 0.30834959814563934\n",
      "Correlation to price for sqft_basement 0.32381602071198434\n",
      "Correlation to price for view 0.39729348829450273\n",
      "Correlation to price for bathrooms 0.5251375054139628\n",
      "Correlation to price for sqft_living15 0.5853789035795692\n",
      "Correlation to price for sqft_above 0.6055672983560784\n",
      "Correlation to price for grade 0.6674342560202353\n",
      "Correlation to price for sqft_living 0.7020350546118005\n",
      "Correlation to price for price 1.0\n"
     ]
    }
   ],
   "source": [
    "import six\n",
    "\n",
    "for i in house_df[columns_for_lr].columns:\n",
    "    if not( isinstance(house_df.select(i).take(1)[0][0], six.string_types)):\n",
    "        print(\"Correlation to price for\", i, house_df.stat.corr('price',i))"
   ]
  },
  {
   "cell_type": "markdown",
   "id": "5582c0a2",
   "metadata": {},
   "source": [
    "### Preparing data from Linear Regression"
   ]
  },
  {
   "cell_type": "code",
   "execution_count": 6,
   "id": "ac25efe2",
   "metadata": {},
   "outputs": [
    {
     "name": "stdout",
     "output_type": "stream",
     "text": [
      "\n",
      "After Vector Assembling\n"
     ]
    },
    {
     "name": "stderr",
     "output_type": "stream",
     "text": [
      "\r",
      "[Stage 29:>                                                         (0 + 1) / 1]\r"
     ]
    },
    {
     "name": "stdout",
     "output_type": "stream",
     "text": [
      "+--------------------+--------+\n",
      "|            Features|   price|\n",
      "+--------------------+--------+\n",
      "|[1.0,0.0,47.51119...|221900.0|\n",
      "|[2.0,0.0,47.72100...|538000.0|\n",
      "|[1.0,0.0,47.73789...|180000.0|\n",
      "|[1.0,0.0,47.52080...|604000.0|\n",
      "|[1.0,0.0,47.61679...|510000.0|\n",
      "+--------------------+--------+\n",
      "only showing top 5 rows\n",
      "\n"
     ]
    },
    {
     "name": "stderr",
     "output_type": "stream",
     "text": [
      "\r",
      "                                                                                \r"
     ]
    }
   ],
   "source": [
    "from pyspark.ml.feature import VectorAssembler\n",
    "\n",
    "# Preparing to Linear Regression\n",
    "features = [\"floors\", \"waterfront\",\"lat\" ,\"bedrooms\" ,\"sqft_basement\" ,\"view\" ,\"bathrooms\",\"sqft_living15\",\"sqft_above\",\"grade\",\"sqft_living\"] \n",
    "vectorAssembler = VectorAssembler(inputCols = features, outputCol = 'Features')\n",
    "vhouse_df = vectorAssembler.transform(house_df)\n",
    "vhouse_df = vhouse_df.select(['Features', 'price'])\n",
    "print(\"\\nAfter Vector Assembling\")\n",
    "vhouse_df.show(5)"
   ]
  },
  {
   "cell_type": "markdown",
   "id": "5e4e57fd",
   "metadata": {},
   "source": [
    "## Traint Test Split"
   ]
  },
  {
   "cell_type": "code",
   "execution_count": 7,
   "id": "f3ea9742",
   "metadata": {},
   "outputs": [
    {
     "name": "stdout",
     "output_type": "stream",
     "text": [
      "Training data\n"
     ]
    },
    {
     "name": "stderr",
     "output_type": "stream",
     "text": [
      "                                                                                \r"
     ]
    },
    {
     "name": "stdout",
     "output_type": "stream",
     "text": [
      "+--------------------+---------+\n",
      "|            Features|    price|\n",
      "+--------------------+---------+\n",
      "|(11,[0,2,7,8,9,10...| 139950.0|\n",
      "|(11,[0,2,7,8,9,10...| 235000.0|\n",
      "|(11,[0,2,7,8,9,10...|1295650.0|\n",
      "|[1.0,0.0,47.17639...| 245000.0|\n",
      "|[1.0,0.0,47.17750...| 360000.0|\n",
      "+--------------------+---------+\n",
      "only showing top 5 rows\n",
      "\n",
      "None\n",
      "\n",
      "Test data\n",
      "+--------------------+--------+\n",
      "|            Features|   price|\n",
      "+--------------------+--------+\n",
      "|(11,[0,2,7,8,9,10...|142000.0|\n",
      "|(11,[0,2,7,8,9,10...|355000.0|\n",
      "|[1.0,0.0,47.16469...|335000.0|\n",
      "|[1.0,0.0,47.18030...|265000.0|\n",
      "|[1.0,0.0,47.18080...|350000.0|\n",
      "+--------------------+--------+\n",
      "only showing top 5 rows\n",
      "\n",
      "None\n"
     ]
    },
    {
     "name": "stderr",
     "output_type": "stream",
     "text": [
      "\r",
      "[Stage 31:>                                                         (0 + 1) / 1]\r",
      "\r",
      "                                                                                \r"
     ]
    }
   ],
   "source": [
    "# Training, Test Split\n",
    "(trainingData, testData) = vhouse_df.randomSplit([0.7, 0.3])\n",
    "\n",
    "print(\"Training data\")\n",
    "print(trainingData.show(5))\n",
    "\n",
    "print(\"\\nTest data\")\n",
    "print(testData.show(5))"
   ]
  },
  {
   "cell_type": "code",
   "execution_count": 8,
   "id": "cbd5813a",
   "metadata": {},
   "outputs": [
    {
     "name": "stderr",
     "output_type": "stream",
     "text": [
      "[Stage 35:>                                                         (0 + 1) / 1]\r"
     ]
    },
    {
     "name": "stdout",
     "output_type": "stream",
     "text": [
      "Total trainingData instance : 15003 \n",
      "Total testData instance : 6610\n"
     ]
    },
    {
     "name": "stderr",
     "output_type": "stream",
     "text": [
      "\r",
      "                                                                                \r"
     ]
    }
   ],
   "source": [
    "print(\"Total trainingData instance :\", trainingData.count(),\"\\nTotal testData instance :\", testData.count())"
   ]
  },
  {
   "cell_type": "markdown",
   "id": "576da63c",
   "metadata": {},
   "source": [
    "# Linear Regression"
   ]
  },
  {
   "cell_type": "code",
   "execution_count": 9,
   "id": "fbaa8897",
   "metadata": {},
   "outputs": [
    {
     "name": "stdout",
     "output_type": "stream",
     "text": [
      "*** Linear Regression ***\n"
     ]
    },
    {
     "name": "stderr",
     "output_type": "stream",
     "text": [
      "[Stage 39:>                                                         (0 + 1) / 1]\r"
     ]
    },
    {
     "name": "stdout",
     "output_type": "stream",
     "text": [
      "Coefficients: [-32456.631336669576,645081.1259244545,672619.7540772442,-27897.911058289792,89.11311510769912,66814.30583828094,-359.5490547669412,4.158007130600411,96.40363220483924,81804.97166813583,100.90403059634717]\n",
      "\n",
      "Intercept: -32369695.408281278\n"
     ]
    },
    {
     "name": "stderr",
     "output_type": "stream",
     "text": [
      "\r",
      "                                                                                \r"
     ]
    }
   ],
   "source": [
    "from pyspark.ml.regression import LinearRegression\n",
    "\n",
    "print(\"*** Linear Regression ***\")\n",
    "lr = LinearRegression(featuresCol = 'Features', labelCol='price', maxIter = 20, regParam = 0.3, elasticNetParam = 0.8)\n",
    "lr_model = lr.fit(trainingData)\n",
    "print(\"Coefficients: \" + str(lr_model.coefficients))\n",
    "print(\"\\nIntercept: \" + str(lr_model.intercept))"
   ]
  },
  {
   "cell_type": "markdown",
   "id": "fa7aab8c",
   "metadata": {},
   "source": [
    "### Model Summary"
   ]
  },
  {
   "cell_type": "code",
   "execution_count": 10,
   "id": "4e6e268d",
   "metadata": {},
   "outputs": [
    {
     "name": "stdout",
     "output_type": "stream",
     "text": [
      "Model Summary for Linear Regression\n",
      "-----------------------------------\n",
      "RMSE: 217814.722242\n",
      "r2: 0.655311\n"
     ]
    }
   ],
   "source": [
    "trainingSummary = lr_model.summary\n",
    "print(\"Model Summary for Linear Regression\")\n",
    "print(\"-----------------------------------\")\n",
    "print(\"RMSE: %f\" % trainingSummary.rootMeanSquaredError)\n",
    "print(\"r2: %f\" % trainingSummary.r2)"
   ]
  },
  {
   "cell_type": "markdown",
   "id": "3b6e2bce",
   "metadata": {},
   "source": [
    "### Prediction"
   ]
  },
  {
   "cell_type": "code",
   "execution_count": 11,
   "id": "a83d1064",
   "metadata": {},
   "outputs": [
    {
     "name": "stdout",
     "output_type": "stream",
     "text": [
      "Prediction for Linear Regression Model\n",
      "--------------------------------------\n"
     ]
    },
    {
     "name": "stderr",
     "output_type": "stream",
     "text": [
      "\r",
      "[Stage 40:>                                                         (0 + 1) / 1]\r",
      "\r",
      "                                                                                \r"
     ]
    },
    {
     "name": "stdout",
     "output_type": "stream",
     "text": [
      "+--------------------+--------+------------------+\n",
      "|            features|   price|        prediction|\n",
      "+--------------------+--------+------------------+\n",
      "|(11,[0,2,7,8,9,10...|142000.0|-286236.9574088119|\n",
      "|(11,[0,2,7,8,9,10...|355000.0| 604252.4438825101|\n",
      "|[1.0,0.0,47.16469...|335000.0| 189101.6817632541|\n",
      "|[1.0,0.0,47.18030...|265000.0|188186.58300402015|\n",
      "|[1.0,0.0,47.18080...|350000.0|310105.72187368944|\n",
      "+--------------------+--------+------------------+\n",
      "only showing top 5 rows\n",
      "\n"
     ]
    },
    {
     "name": "stderr",
     "output_type": "stream",
     "text": [
      "\r",
      "[Stage 41:>                                                         (0 + 1) / 1]\r",
      "\r",
      "                                                                                \r"
     ]
    },
    {
     "name": "stdout",
     "output_type": "stream",
     "text": [
      "R Squared (R2) on test data = 0.662859\n"
     ]
    }
   ],
   "source": [
    "print(\"Prediction for Linear Regression Model\")\n",
    "print(\"--------------------------------------\")\n",
    "lr_predictions = lr_model.transform(testData)\n",
    "lr_predictions.select(\"features\",\"price\",\"prediction\").show(5)\n",
    "\n",
    "from pyspark.ml.evaluation import RegressionEvaluator\n",
    "\n",
    "# Evaluator for test data\n",
    "lr_evaluator = RegressionEvaluator(labelCol=\"price\",\n",
    "                                   predictionCol=\"prediction\",\n",
    "                                   metricName=\"r2\")\n",
    "\n",
    "# R2 score for test data\n",
    "r2 = lr_evaluator.evaluate(lr_predictions)\n",
    "print(\"R Squared (R2) on test data = %g\" % lr_evaluator.evaluate(lr_predictions))\n"
   ]
  },
  {
   "cell_type": "markdown",
   "id": "fbefe599",
   "metadata": {},
   "source": [
    "# Gradient-boosted Tree Regression"
   ]
  },
  {
   "cell_type": "code",
   "execution_count": 12,
   "id": "7d644db9",
   "metadata": {},
   "outputs": [
    {
     "name": "stderr",
     "output_type": "stream",
     "text": [
      "                                                                                \r"
     ]
    },
    {
     "name": "stdout",
     "output_type": "stream",
     "text": [
      "\n",
      "*** Gradient-boosted Tree Regression *** \n",
      "+------------------+--------+--------------------+\n",
      "|        prediction|   price|            features|\n",
      "+------------------+--------+--------------------+\n",
      "|234249.21852428862|142000.0|(11,[0,2,7,8,9,10...|\n",
      "|342141.02785188414|355000.0|(11,[0,2,7,8,9,10...|\n",
      "|321822.92960840295|335000.0|[1.0,0.0,47.16469...|\n",
      "|  276647.788726951|265000.0|[1.0,0.0,47.18030...|\n",
      "|279021.53497661534|350000.0|[1.0,0.0,47.18080...|\n",
      "+------------------+--------+--------------------+\n",
      "only showing top 5 rows\n",
      "\n"
     ]
    }
   ],
   "source": [
    "from pyspark.ml.regression import GBTRegressor\n",
    "\n",
    "# Gradient-boosted Tree Regression\n",
    "gbt = GBTRegressor(featuresCol = 'Features', labelCol = 'price', maxIter=10)\n",
    "gbt_model = gbt.fit(trainingData)\n",
    "gbt_predictions = gbt_model.transform(testData)\n",
    "print(\"\\n*** Gradient-boosted Tree Regression *** \")\n",
    "gbt_predictions.select('prediction', 'price', 'features').show(5)"
   ]
  },
  {
   "cell_type": "code",
   "execution_count": 13,
   "id": "eeac480a",
   "metadata": {},
   "outputs": [
    {
     "name": "stdout",
     "output_type": "stream",
     "text": [
      "\n",
      "*** Gradient-boosted Tree Regression - R Squared (R2) Score *** \n",
      "---------------------------------------------------------------\n",
      "R Squared (R2) on test data = 0.759249\n"
     ]
    },
    {
     "name": "stderr",
     "output_type": "stream",
     "text": [
      "\r",
      "[Stage 148:>                                                        (0 + 1) / 1]\r",
      "\r",
      "                                                                                \r"
     ]
    }
   ],
   "source": [
    "# Gradient-boosted Tree Regression Evaluator\n",
    "gbt_evaluator = RegressionEvaluator(\n",
    "    labelCol=\"price\", predictionCol=\"prediction\", metricName=\"r2\")\n",
    "r2 = gbt_evaluator.evaluate(gbt_predictions)\n",
    "print(\"\\n*** Gradient-boosted Tree Regression - R Squared (R2) Score *** \")\n",
    "print(\"---------------------------------------------------------------\")\n",
    "print(\"R Squared (R2) on test data = %g\" % r2)"
   ]
  }
 ],
 "metadata": {
  "kernelspec": {
   "display_name": "Python 3",
   "language": "python",
   "name": "python3"
  },
  "language_info": {
   "codemirror_mode": {
    "name": "ipython",
    "version": 3
   },
   "file_extension": ".py",
   "mimetype": "text/x-python",
   "name": "python",
   "nbconvert_exporter": "python",
   "pygments_lexer": "ipython3",
   "version": "3.8.12"
  }
 },
 "nbformat": 4,
 "nbformat_minor": 5
}